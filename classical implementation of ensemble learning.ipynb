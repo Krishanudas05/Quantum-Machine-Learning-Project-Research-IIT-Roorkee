{
 "cells": [
  {
   "cell_type": "code",
   "execution_count": 4,
   "id": "3780cf28",
   "metadata": {},
   "outputs": [
    {
     "name": "stdout",
     "output_type": "stream",
     "text": [
      "Accuracy: 1.0\n"
     ]
    }
   ],
   "source": [
    "import pandas as pd\n",
    "from sklearn.model_selection import train_test_split\n",
    "from sklearn.ensemble import VotingClassifier\n",
    "from sklearn.tree import DecisionTreeClassifier\n",
    "from sklearn.metrics import accuracy_score\n",
    "\n",
    "# Load the Iris dataset using pandas and skip the header row\n",
    "iris_data = pd.read_csv('iris.csv', header=0)\n",
    "\n",
    "# Split the dataset into features (X) and target (y)\n",
    "X = iris_data.drop('Species', axis=1)\n",
    "y = iris_data['Species']\n",
    "\n",
    "# Split the data into training and testing sets\n",
    "X_train, X_test, y_train, y_test = train_test_split(X, y, test_size=0.2, random_state=42)\n",
    "\n",
    "# Initialize individual decision tree classifiers\n",
    "tree1 = DecisionTreeClassifier()\n",
    "tree2 = DecisionTreeClassifier()\n",
    "tree3 = DecisionTreeClassifier()\n",
    "\n",
    "# Create the ensemble model using VotingClassifier\n",
    "ensemble = VotingClassifier(estimators=[('tree1', tree1), ('tree2', tree2), ('tree3', tree3)])\n",
    "\n",
    "# Train the ensemble model\n",
    "ensemble.fit(X_train, y_train)\n",
    "\n",
    "# Predict the target values\n",
    "y_pred = ensemble.predict(X_test)\n",
    "\n",
    "# Calculate the accuracy of the ensemble model\n",
    "accuracy = accuracy_score(y_test, y_pred)\n",
    "print(\"Accuracy:\", accuracy)\n"
   ]
  },
  {
   "cell_type": "code",
   "execution_count": null,
   "id": "007637c6",
   "metadata": {},
   "outputs": [],
   "source": []
  }
 ],
 "metadata": {
  "kernelspec": {
   "display_name": "Python 3 (ipykernel)",
   "language": "python",
   "name": "python3"
  },
  "language_info": {
   "codemirror_mode": {
    "name": "ipython",
    "version": 3
   },
   "file_extension": ".py",
   "mimetype": "text/x-python",
   "name": "python",
   "nbconvert_exporter": "python",
   "pygments_lexer": "ipython3",
   "version": "3.9.12"
  }
 },
 "nbformat": 4,
 "nbformat_minor": 5
}
